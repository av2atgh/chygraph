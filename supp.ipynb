{
 "cells": [
  {
   "cell_type": "code",
   "execution_count": 1,
   "id": "3ee2bb58-3d71-4666-b778-9f0c71f99e1f",
   "metadata": {},
   "outputs": [],
   "source": [
    "import numpy as np\n",
    "import pandas as pd\n",
    "import sympy\n",
    "from sympy import *\n",
    "import matplotlib.pyplot as plt\n",
    "plt.rcParams.update({'font.size': 14})\n",
    "import warnings\n",
    "warnings.filterwarnings(\"ignore\")\n",
    "\n",
    "def fancy_print(eqn, x, label, split=False):\n",
    "    if split:\n",
    "        display(\"Supp. Eq. \" + eqn + \", \" + label + \":\")\n",
    "        display(x)\n",
    "    else:\n",
    "        display(\"Supp. Eq. \" + eqn)\n",
    "        display(Eq(symbols(label), x, evaluate=False))"
   ]
  },
  {
   "cell_type": "markdown",
   "id": "6af6430a-347a-452e-be0d-3afe6cfbf694",
   "metadata": {},
   "source": [
    "# symbolic calculator"
   ]
  },
  {
   "cell_type": "code",
   "execution_count": 2,
   "id": "ae0791b7-092e-49ae-b82b-fc5e1c246df2",
   "metadata": {},
   "outputs": [],
   "source": [
    "from sympy import *\n",
    "class vec2A:\n",
    "    def __init__(self,k,K,s,S):\n",
    "        L = k.shape[0]\n",
    "        Lv = L**2\n",
    "        A = zeros(2*Lv, 2*Lv)\n",
    "        def delta(i,j):\n",
    "            return int(i==j)\n",
    "        for i in range(2):\n",
    "            for j in range(2):\n",
    "                for m in range(L):\n",
    "                    for l in range(L):\n",
    "                        for n in range(L):\n",
    "                            for o in range(L):\n",
    "                                if i==0 and j==0:\n",
    "                                    A[i*Lv + m*L + l, j*Lv + n*L + o] = (\n",
    "                                        delta(m,n)*delta(l,o) - k[n,o]*delta(n,l)\n",
    "                                    )\n",
    "                                elif i==0 and j==1:\n",
    "                                    A[i*Lv + m*L + l, j*Lv + n*L + o] = (\n",
    "                                        -(S[n,o]*delta(m,o) + (1-delta(m,o))*s[n,o])*delta(n,l)\n",
    "                                    )\n",
    "                                elif i==1 and j==0:\n",
    "                                    A[i*Lv + m*L + l, j*Lv + n*L + o] = (\n",
    "                                        -(K[n,o]*delta(m,o) + (1-delta(m,o))*k[n,o])*delta(n,l)\n",
    "                                    )\n",
    "                                elif i==1 and j==1:\n",
    "                                    A[i*Lv + m*L + l, j*Lv + n*L + o] = (\n",
    "                                        delta(m,n)*delta(l,o) - s[n,o]*delta(n,l)\n",
    "                                    )\n",
    "        self.A = A\n",
    "    def theta(self):\n",
    "        return -self.A.det()\n",
    "    def eigenvals(self):\n",
    "        return list((-self.A).eigenvals().keys())"
   ]
  },
  {
   "cell_type": "markdown",
   "id": "2857fb34-7e92-4f45-a5db-c139df732a74",
   "metadata": {},
   "source": [
    "# S.VI. Graphs and hypergraphs"
   ]
  },
  {
   "cell_type": "code",
   "execution_count": 3,
   "id": "45552ac7-988e-45b8-8e52-b32b5d5fb3a6",
   "metadata": {},
   "outputs": [],
   "source": [
    "class HypergraphPercolation:\n",
    "    def __init__(self, graph=False):\n",
    "        L = 2\n",
    "        k = zeros(L, L)\n",
    "        K = zeros(L, L)\n",
    "        s = zeros(L, L)\n",
    "        S = zeros(L, L)\n",
    "        p = symbols('p')\n",
    "        q = symbols('q')\n",
    "        k[0,1] = p*symbols('k')\n",
    "        K[0,1] = p*symbols('K')\n",
    "        s[1,0] = 1+q if graph else q*symbols('c')\n",
    "        S[1,0] = q if graph else q*symbols('C')\n",
    "        self.A = vec2A(k,K,s,S)"
   ]
  },
  {
   "cell_type": "code",
   "execution_count": 4,
   "id": "dd23b033-ce87-4614-adf4-40c8e0f7d678",
   "metadata": {},
   "outputs": [
    {
     "data": {
      "text/plain": [
       "'Supp. Eq. 1'"
      ]
     },
     "metadata": {},
     "output_type": "display_data"
    },
    {
     "data": {
      "text/latex": [
       "$\\displaystyle \\theta = C K p q - 1$"
      ],
      "text/plain": [
       "Eq(theta, C*K*p*q - 1)"
      ]
     },
     "metadata": {},
     "output_type": "display_data"
    },
    {
     "data": {
      "text/plain": [
       "'Supp. Eq. 2, eigenvalues:'"
      ]
     },
     "metadata": {},
     "output_type": "display_data"
    },
    {
     "data": {
      "text/plain": [
       "[-sqrt(C*K*p*q) - 1, sqrt(C*K*p*q) - 1, -1]"
      ]
     },
     "metadata": {},
     "output_type": "display_data"
    },
    {
     "data": {
      "text/plain": [
       "'Supp. Eq. 3'"
      ]
     },
     "metadata": {},
     "output_type": "display_data"
    },
    {
     "data": {
      "text/latex": [
       "$\\displaystyle \\Lambda = \\sqrt{C K p q} - 1$"
      ],
      "text/plain": [
       "Eq(Lambda, sqrt(C*K*p*q) - 1)"
      ]
     },
     "metadata": {},
     "output_type": "display_data"
    }
   ],
   "source": [
    "# hypergraph\n",
    "\n",
    "H = HypergraphPercolation()\n",
    "fancy_print(\"1\", H.A.theta(), 'theta')\n",
    "fancy_print(\"2\", H.A.eigenvals(), \"eigenvalues\", split=True)\n",
    "fancy_print(\"3\", H.A.eigenvals()[1], \"Lambda\")"
   ]
  },
  {
   "cell_type": "code",
   "execution_count": 5,
   "id": "f9a33cd3-6db3-453b-95e0-2107010b3457",
   "metadata": {},
   "outputs": [
    {
     "data": {
      "text/plain": [
       "'Supp. Eq. 4'"
      ]
     },
     "metadata": {},
     "output_type": "display_data"
    },
    {
     "data": {
      "text/latex": [
       "$\\displaystyle \\theta = K p q - 1$"
      ],
      "text/plain": [
       "Eq(theta, K*p*q - 1)"
      ]
     },
     "metadata": {},
     "output_type": "display_data"
    },
    {
     "data": {
      "text/plain": [
       "'Supp. Eq. 5, eigenvalues:'"
      ]
     },
     "metadata": {},
     "output_type": "display_data"
    },
    {
     "data": {
      "text/plain": [
       "[-sqrt(K*p*q) - 1, sqrt(K*p*q) - 1, -1]"
      ]
     },
     "metadata": {},
     "output_type": "display_data"
    },
    {
     "data": {
      "text/plain": [
       "'Supp. Eq. 6'"
      ]
     },
     "metadata": {},
     "output_type": "display_data"
    },
    {
     "data": {
      "text/latex": [
       "$\\displaystyle \\Lambda = \\sqrt{K p q} - 1$"
      ],
      "text/plain": [
       "Eq(Lambda, sqrt(K*p*q) - 1)"
      ]
     },
     "metadata": {},
     "output_type": "display_data"
    }
   ],
   "source": [
    "# graph\n",
    "G = HypergraphPercolation(graph=True)\n",
    "fancy_print(\"4\", G.A.theta(), 'theta')\n",
    "fancy_print(\"5\", G.A.eigenvals(), \"eigenvalues\", split=True)\n",
    "fancy_print(\"6\", G.A.eigenvals()[1], \"Lambda\")"
   ]
  },
  {
   "cell_type": "markdown",
   "id": "4fa7853e-21ba-4a83-9255-f783c08a21d0",
   "metadata": {},
   "source": [
    "# S.V. Multiplex"
   ]
  },
  {
   "cell_type": "code",
   "execution_count": 6,
   "id": "815e5dc6-6caf-41f1-b8a6-67e6d536f4cc",
   "metadata": {},
   "outputs": [],
   "source": [
    "class MultiplexHypergraph:\n",
    "    def __init__(self, number_of_types=2, graph=False, poisson=False):\n",
    "        L = number_of_types + 1\n",
    "        Lv = L**2\n",
    "        k = zeros(L, L)\n",
    "        K = zeros(L, L)\n",
    "        s = zeros(L, L)\n",
    "        S = zeros(L, L)\n",
    "        for l in range(1,L):\n",
    "            k[0,l] = symbols('k_0'+str(l))\n",
    "            K[0,l] = symbols('K_0'+str(l))\n",
    "            s[l,0] = 2 if graph else symbols('s_'+str(l)+'0')\n",
    "            S[l,0] = 1 if graph else symbols('S_'+str(l)+'0')\n",
    "        if poisson:\n",
    "            K = k\n",
    "        if not graph and poisson:\n",
    "            S = s\n",
    "        self.A = vec2A(k,K,s,S)"
   ]
  },
  {
   "cell_type": "code",
   "execution_count": 7,
   "id": "74b5edd5-9fa4-425a-bf94-1da407ca72ae",
   "metadata": {},
   "outputs": [
    {
     "data": {
      "text/plain": [
       "'Supp. Eq. 7'"
      ]
     },
     "metadata": {},
     "output_type": "display_data"
    },
    {
     "data": {
      "text/latex": [
       "$\\displaystyle \\theta = - K_{01} K_{02} S_{10} S_{20} + K_{01} S_{10} + K_{02} S_{20} + S_{10} S_{20} k_{01} k_{02} - 1$"
      ],
      "text/plain": [
       "Eq(theta, -K_01*K_02*S_10*S_20 + K_01*S_10 + K_02*S_20 + S_10*S_20*k_01*k_02 - 1)"
      ]
     },
     "metadata": {},
     "output_type": "display_data"
    },
    {
     "data": {
      "text/plain": [
       "'Supp. Eq. 8, eigenvalues:'"
      ]
     },
     "metadata": {},
     "output_type": "display_data"
    },
    {
     "data": {
      "text/plain": [
       "[-sqrt(2)*sqrt(K_01*S_10 + K_02*S_20 - sqrt(K_01**2*S_10**2 - 2*K_01*K_02*S_10*S_20 + K_02**2*S_20**2 + 4*S_10*S_20*k_01*k_02))/2 - 1,\n",
       " sqrt(2)*sqrt(K_01*S_10 + K_02*S_20 - sqrt(K_01**2*S_10**2 - 2*K_01*K_02*S_10*S_20 + K_02**2*S_20**2 + 4*S_10*S_20*k_01*k_02))/2 - 1,\n",
       " -sqrt(2)*sqrt(K_01*S_10 + K_02*S_20 + sqrt(K_01**2*S_10**2 - 2*K_01*K_02*S_10*S_20 + K_02**2*S_20**2 + 4*S_10*S_20*k_01*k_02))/2 - 1,\n",
       " sqrt(2)*sqrt(K_01*S_10 + K_02*S_20 + sqrt(K_01**2*S_10**2 - 2*K_01*K_02*S_10*S_20 + K_02**2*S_20**2 + 4*S_10*S_20*k_01*k_02))/2 - 1,\n",
       " -1]"
      ]
     },
     "metadata": {},
     "output_type": "display_data"
    },
    {
     "data": {
      "text/plain": [
       "'Supp. Eq. 9'"
      ]
     },
     "metadata": {},
     "output_type": "display_data"
    },
    {
     "data": {
      "text/latex": [
       "$\\displaystyle \\Lambda = \\frac{\\sqrt{2} \\sqrt{K_{01} S_{10} + K_{02} S_{20} + \\sqrt{K_{01}^{2} S_{10}^{2} - 2 K_{01} K_{02} S_{10} S_{20} + K_{02}^{2} S_{20}^{2} + 4 S_{10} S_{20} k_{01} k_{02}}}}{2} - 1$"
      ],
      "text/plain": [
       "Eq(Lambda, sqrt(2)*sqrt(K_01*S_10 + K_02*S_20 + sqrt(K_01**2*S_10**2 - 2*K_01*K_02*S_10*S_20 + K_02**2*S_20**2 + 4*S_10*S_20*k_01*k_02))/2 - 1)"
      ]
     },
     "metadata": {},
     "output_type": "display_data"
    }
   ],
   "source": [
    "# multiplex hypergraph: 2 types\n",
    "\n",
    "MH = MultiplexHypergraph(number_of_types=2)\n",
    "fancy_print(\"7\", MH.A.theta(), 'theta')\n",
    "fancy_print(\"8\", MH.A.eigenvals(), \"eigenvalues\", split=True)\n",
    "fancy_print(\"9\", MH.A.eigenvals()[3], \"Lambda\")"
   ]
  },
  {
   "cell_type": "code",
   "execution_count": 8,
   "id": "c96509e8-7248-43be-81f0-5692d7cd068b",
   "metadata": {},
   "outputs": [
    {
     "data": {
      "text/plain": [
       "'Supp. Eq. 10'"
      ]
     },
     "metadata": {},
     "output_type": "display_data"
    },
    {
     "data": {
      "text/latex": [
       "$\\displaystyle \\theta = K_{01} K_{02} K_{03} S_{10} S_{20} S_{30} - K_{01} K_{02} S_{10} S_{20} - K_{01} K_{03} S_{10} S_{30} - K_{01} S_{10} S_{20} S_{30} k_{02} k_{03} + K_{01} S_{10} - K_{02} K_{03} S_{20} S_{30} - K_{02} S_{10} S_{20} S_{30} k_{01} k_{03} + K_{02} S_{20} - K_{03} S_{10} S_{20} S_{30} k_{01} k_{02} + K_{03} S_{30} + 2 S_{10} S_{20} S_{30} k_{01} k_{02} k_{03} + S_{10} S_{20} k_{01} k_{02} + S_{10} S_{30} k_{01} k_{03} + S_{20} S_{30} k_{02} k_{03} - 1$"
      ],
      "text/plain": [
       "Eq(theta, K_01*K_02*K_03*S_10*S_20*S_30 - K_01*K_02*S_10*S_20 - K_01*K_03*S_10*S_30 - K_01*S_10*S_20*S_30*k_02*k_03 + K_01*S_10 - K_02*K_03*S_20*S_30 - K_02*S_10*S_20*S_30*k_01*k_03 + K_02*S_20 - K_03*S_10*S_20*S_30*k_01*k_02 + K_03*S_30 + 2*S_10*S_20*S_30*k_01*k_02*k_03 + S_10*S_20*k_01*k_02 + S_10*S_30*k_01*k_03 + S_20*S_30*k_02*k_03 - 1)"
      ]
     },
     "metadata": {},
     "output_type": "display_data"
    }
   ],
   "source": [
    "# multiplex hypergraph: 3 types\n",
    "\n",
    "MH3 = MultiplexHypergraph(number_of_types=3)\n",
    "fancy_print(\"10\", MH3.A.theta(), 'theta')"
   ]
  },
  {
   "cell_type": "markdown",
   "id": "a0a60cfe-29cd-4df3-a337-25d2ac8ba960",
   "metadata": {},
   "source": [
    "# S.V.A. Poisson multiplex hypergraph"
   ]
  },
  {
   "cell_type": "code",
   "execution_count": 9,
   "id": "ad68a462-e726-48c7-90de-8229890cc9d5",
   "metadata": {},
   "outputs": [
    {
     "data": {
      "text/plain": [
       "'Supp. Eq. 11'"
      ]
     },
     "metadata": {},
     "output_type": "display_data"
    },
    {
     "data": {
      "text/latex": [
       "$\\displaystyle \\theta = k_{01} s_{10} + k_{02} s_{20} + k_{03} s_{30} + k_{04} s_{40} - 1$"
      ],
      "text/plain": [
       "Eq(theta, k_01*s_10 + k_02*s_20 + k_03*s_30 + k_04*s_40 - 1)"
      ]
     },
     "metadata": {},
     "output_type": "display_data"
    },
    {
     "data": {
      "text/plain": [
       "'Supp. Eq. 12, eigenvalues:'"
      ]
     },
     "metadata": {},
     "output_type": "display_data"
    },
    {
     "data": {
      "text/plain": [
       "[-1,\n",
       " -sqrt(k_01*s_10 + k_02*s_20 + k_03*s_30 + k_04*s_40) - 1,\n",
       " sqrt(k_01*s_10 + k_02*s_20 + k_03*s_30 + k_04*s_40) - 1]"
      ]
     },
     "metadata": {},
     "output_type": "display_data"
    },
    {
     "data": {
      "text/plain": [
       "'Supp. Eq. 13'"
      ]
     },
     "metadata": {},
     "output_type": "display_data"
    },
    {
     "data": {
      "text/latex": [
       "$\\displaystyle \\Lambda = \\sqrt{k_{01} s_{10} + k_{02} s_{20} + k_{03} s_{30} + k_{04} s_{40}} - 1$"
      ],
      "text/plain": [
       "Eq(Lambda, sqrt(k_01*s_10 + k_02*s_20 + k_03*s_30 + k_04*s_40) - 1)"
      ]
     },
     "metadata": {},
     "output_type": "display_data"
    }
   ],
   "source": [
    "# multiplex hypergraph: Poisson\n",
    "\n",
    "MHP5 = MultiplexHypergraph(number_of_types=4, poisson=True)\n",
    "eigenvals = MHP5.A.eigenvals()\n",
    "fancy_print(\"11\", MHP5.A.theta(), 'theta')\n",
    "fancy_print(\"12\", eigenvals, \"eigenvalues\", split=True)\n",
    "fancy_print(\"13\", eigenvals[2], \"Lambda\")"
   ]
  },
  {
   "cell_type": "markdown",
   "id": "ac3a2416-71f5-4a39-ad11-5d4431ab7fa9",
   "metadata": {},
   "source": [
    "# S.V.B. network motifs"
   ]
  },
  {
   "cell_type": "code",
   "execution_count": 10,
   "id": "7376b06c-f14b-4084-a2fb-1b19c8d488ea",
   "metadata": {},
   "outputs": [
    {
     "data": {
      "text/plain": [
       "'Supp. Eq. 14'"
      ]
     },
     "metadata": {},
     "output_type": "display_data"
    },
    {
     "data": {
      "text/latex": [
       "$\\displaystyle \\theta = 2 K_{L} K_{T} q^{4} - 2 K_{L} K_{T} q^{3} - 2 K_{L} K_{T} q^{2} + K_{L} q - 2 K_{T} q^{3} + 2 K_{T} q^{2} + 2 K_{T} q - 2 k_{L} k_{T} q^{4} + 2 k_{L} k_{T} q^{3} + 2 k_{L} k_{T} q^{2} - 1$"
      ],
      "text/plain": [
       "Eq(theta, 2*K_L*K_T*q**4 - 2*K_L*K_T*q**3 - 2*K_L*K_T*q**2 + K_L*q - 2*K_T*q**3 + 2*K_T*q**2 + 2*K_T*q - 2*k_L*k_T*q**4 + 2*k_L*k_T*q**3 + 2*k_L*k_T*q**2 - 1)"
      ]
     },
     "metadata": {},
     "output_type": "display_data"
    },
    {
     "data": {
      "text/plain": [
       "'Supp. Eq. 15, eigenvalues:'"
      ]
     },
     "metadata": {},
     "output_type": "display_data"
    },
    {
     "data": {
      "text/plain": [
       "[-sqrt(2)*sqrt(K_L*q - 2*K_T*q**3 + 2*K_T*q**2 + 2*K_T*q - q*sqrt(K_L**2 + 4*K_L*K_T*q**2 - 4*K_L*K_T*q - 4*K_L*K_T + 4*K_T**2*q**4 - 8*K_T**2*q**3 - 4*K_T**2*q**2 + 8*K_T**2*q + 4*K_T**2 - 8*k_L*k_T*q**2 + 8*k_L*k_T*q + 8*k_L*k_T))/2 - 1,\n",
       " sqrt(2)*sqrt(K_L*q - 2*K_T*q**3 + 2*K_T*q**2 + 2*K_T*q - q*sqrt(K_L**2 + 4*K_L*K_T*q**2 - 4*K_L*K_T*q - 4*K_L*K_T + 4*K_T**2*q**4 - 8*K_T**2*q**3 - 4*K_T**2*q**2 + 8*K_T**2*q + 4*K_T**2 - 8*k_L*k_T*q**2 + 8*k_L*k_T*q + 8*k_L*k_T))/2 - 1,\n",
       " -sqrt(2)*sqrt(K_L*q - 2*K_T*q**3 + 2*K_T*q**2 + 2*K_T*q + q*sqrt(K_L**2 + 4*K_L*K_T*q**2 - 4*K_L*K_T*q - 4*K_L*K_T + 4*K_T**2*q**4 - 8*K_T**2*q**3 - 4*K_T**2*q**2 + 8*K_T**2*q + 4*K_T**2 - 8*k_L*k_T*q**2 + 8*k_L*k_T*q + 8*k_L*k_T))/2 - 1,\n",
       " sqrt(2)*sqrt(K_L*q - 2*K_T*q**3 + 2*K_T*q**2 + 2*K_T*q + q*sqrt(K_L**2 + 4*K_L*K_T*q**2 - 4*K_L*K_T*q - 4*K_L*K_T + 4*K_T**2*q**4 - 8*K_T**2*q**3 - 4*K_T**2*q**2 + 8*K_T**2*q + 4*K_T**2 - 8*k_L*k_T*q**2 + 8*k_L*k_T*q + 8*k_L*k_T))/2 - 1,\n",
       " -1]"
      ]
     },
     "metadata": {},
     "output_type": "display_data"
    },
    {
     "data": {
      "text/plain": [
       "'Supp. Eq. 16'"
      ]
     },
     "metadata": {},
     "output_type": "display_data"
    },
    {
     "data": {
      "text/latex": [
       "$\\displaystyle \\Lambda = \\frac{\\sqrt{2} \\sqrt{K_{L} q - 2 K_{T} q^{3} + 2 K_{T} q^{2} + 2 K_{T} q + q \\sqrt{K_{L}^{2} + 4 K_{L} K_{T} q^{2} - 4 K_{L} K_{T} q - 4 K_{L} K_{T} + 4 K_{T}^{2} q^{4} - 8 K_{T}^{2} q^{3} - 4 K_{T}^{2} q^{2} + 8 K_{T}^{2} q + 4 K_{T}^{2} - 8 k_{L} k_{T} q^{2} + 8 k_{L} k_{T} q + 8 k_{L} k_{T}}}}{2} - 1$"
      ],
      "text/plain": [
       "Eq(Lambda, sqrt(2)*sqrt(K_L*q - 2*K_T*q**3 + 2*K_T*q**2 + 2*K_T*q + q*sqrt(K_L**2 + 4*K_L*K_T*q**2 - 4*K_L*K_T*q - 4*K_L*K_T + 4*K_T**2*q**4 - 8*K_T**2*q**3 - 4*K_T**2*q**2 + 8*K_T**2*q + 4*K_T**2 - 8*k_L*k_T*q**2 + 8*k_L*k_T*q + 8*k_L*k_T))/2 - 1)"
      ]
     },
     "metadata": {},
     "output_type": "display_data"
    }
   ],
   "source": [
    "# multiplex graph: links (l=1), triangles (l=2)\n",
    "L = 3\n",
    "Lv = L**2\n",
    "k = zeros(L, L)\n",
    "K = zeros(L, L)\n",
    "s = zeros(L, L)\n",
    "S = zeros(L, L)\n",
    "q = symbols('q')\n",
    "k[0,1] = symbols('k_L')\n",
    "k[0,2] = symbols('k_T')\n",
    "K[0,1] = symbols('K_L')\n",
    "K[0,2] = symbols('K_T')\n",
    "s[1,0] = 1+q\n",
    "s[2,0] = 3*(q**3+3*q**2*(1-q)) + (3/2)*3*q*(1-q)**2 + (1-q)**3\n",
    "S[1,0] = q\n",
    "#\n",
    "# S[2,0] = 2[p^3 + 3p^2(1-p)] + 2p(1-p)^2\n",
    "#\n",
    "S[2,0] = 2*q*(1+q-q**2)\n",
    "NM = vec2A(k,K,s,S)\n",
    "theta = NM.theta\n",
    "eigenvals = NM.eigenvals\n",
    "expected = K[0,1]*S[1,0] + K[0,2]*S[2,0] - 1 + S[1,0]*S[2,0]*( k[0,1]*k[0,2] - K[0,1]*K[0,2] )\n",
    "fancy_print(\"14\", NM.theta(), 'theta')\n",
    "fancy_print(\"15\", NM.eigenvals(), \"eigenvalues\", split=True)\n",
    "fancy_print(\"16\", NM.eigenvals()[3], \"Lambda\")"
   ]
  },
  {
   "cell_type": "code",
   "execution_count": 11,
   "id": "b6f5e273-4365-48ac-9973-f749b6f62007",
   "metadata": {},
   "outputs": [
    {
     "data": {
      "text/plain": [
       "'Supp. Eq. 17'"
      ]
     },
     "metadata": {},
     "output_type": "display_data"
    },
    {
     "data": {
      "text/latex": [
       "$\\displaystyle \\theta = k_{L} q - 2 k_{T} q^{3} + 2 k_{T} q^{2} + 2 k_{T} q - 1$"
      ],
      "text/plain": [
       "Eq(theta, k_L*q - 2*k_T*q**3 + 2*k_T*q**2 + 2*k_T*q - 1)"
      ]
     },
     "metadata": {},
     "output_type": "display_data"
    },
    {
     "data": {
      "text/plain": [
       "'Supp. Eq. 18, eigenvalues:'"
      ]
     },
     "metadata": {},
     "output_type": "display_data"
    },
    {
     "data": {
      "text/plain": [
       "[-1,\n",
       " -sqrt(k_L*q - 2*k_T*q**3 + 2*k_T*q**2 + 2*k_T*q) - 1,\n",
       " sqrt(k_L*q - 2*k_T*q**3 + 2*k_T*q**2 + 2*k_T*q) - 1]"
      ]
     },
     "metadata": {},
     "output_type": "display_data"
    },
    {
     "data": {
      "text/plain": [
       "'Supp. Eq. 19'"
      ]
     },
     "metadata": {},
     "output_type": "display_data"
    },
    {
     "data": {
      "text/latex": [
       "$\\displaystyle \\Lambda = \\sqrt{k_{L} q - 2 k_{T} q^{3} + 2 k_{T} q^{2} + 2 k_{T} q} - 1$"
      ],
      "text/plain": [
       "Eq(Lambda, sqrt(k_L*q - 2*k_T*q**3 + 2*k_T*q**2 + 2*k_T*q) - 1)"
      ]
     },
     "metadata": {},
     "output_type": "display_data"
    }
   ],
   "source": [
    "# poisson multiplex graph: links (l=1), triangles (l=2)\n",
    "\n",
    "L = 3\n",
    "Lv = L**2\n",
    "k = zeros(L, L)\n",
    "s = zeros(L, L)\n",
    "S = zeros(L, L)\n",
    "q = symbols('q')\n",
    "k[0,1] = symbols('k_L')\n",
    "k[0,2] = symbols('k_T')\n",
    "K = k\n",
    "s[1,0] = 1+q\n",
    "s[2,0] = 3*(q**3+3*q**2*(1-q)) + (3/2)*3*q*(1-q)**2 + (1-q)**3\n",
    "S[1,0] = q\n",
    "#\n",
    "# S[2,0] = 2[p^3 + 3p^2(1-p)] + 2p(1-p)^2\n",
    "#\n",
    "S[2,0] = 2*q*(1+q-q**2)\n",
    "NMP = vec2A(k,K,s,S)\n",
    "theta = NM.theta()\n",
    "eigenvals = NM.eigenvals()\n",
    "expected = K[0,1]*S[1,0] + K[0,2]*S[2,0] - 1 + S[1,0]*S[2,0]*( k[0,1]*k[0,2] - K[0,1]*K[0,2] )\n",
    "fancy_print(\"17\", NMP.theta(), 'theta')\n",
    "fancy_print(\"18\", NMP.eigenvals(), \"eigenvalues\", split=True)\n",
    "fancy_print(\"19\", NMP.eigenvals()[2], \"Lambda\")"
   ]
  },
  {
   "cell_type": "code",
   "execution_count": 12,
   "id": "ddd9e12c-b313-41ad-9742-ead6f8d0a286",
   "metadata": {},
   "outputs": [
    {
     "data": {
      "text/plain": [
       "'numerical evaluation'"
      ]
     },
     "metadata": {},
     "output_type": "display_data"
    },
    {
     "data": {
      "image/png": "[encoded data removed]",
      "text/plain": [
       "<Figure size 640x480 with 2 Axes>"
      ]
     },
     "metadata": {},
     "output_type": "display_data"
    }
   ],
   "source": [
    "#\n",
    "#   Fig. 4. Numerical evaluation\n",
    "#\n",
    "\n",
    "display(\"numerical evaluation\")\n",
    "\n",
    "def ftheta(kL, kT, q):\n",
    "    return theta.subs([(symbols('k_L'),kL), (symbols('k_T'),kT), (symbols('K_L'),kL), (symbols('K_T'),kT), (symbols('q'),q)])\n",
    "\n",
    "def fLambda(kL, kT, q):\n",
    "    return eigenvals[3].subs([(symbols('k_L'),kL), (symbols('k_T'),kT), (symbols('K_L'),kL), (symbols('K_T'),kT), (symbols('q'),q)])\n",
    "\n",
    "fig,ax = plt.subplots(2,1)\n",
    "np = 100\n",
    "x = [i/np for i in range(0,np+1,1)]\n",
    "kL = 1\n",
    "kT = 0.5\n",
    "\n",
    "y1 = [ftheta(kL, kT, xi) for xi in x]\n",
    "y2 = [ftheta(kL+2*kT, 0, xi) for xi in x]\n",
    "ax[0].plot(x, y1, c=\"orange\", ls=\"-\", label=r\" $\\langle k\\rangle_|=\\langle \\bar{k}\\rangle_|=1,\\ \\langle k\\rangle_\\Delta=\\langle \\bar{k}\\rangle_\\Delta=0.5$\")\n",
    "ax[0].plot(x, y2, c=\"green\", ls=\"-.\", label=r\" $\\langle k\\rangle_|=\\langle \\bar{k}\\rangle_|=2,\\ \\langle k\\rangle_\\Delta=\\langle \\bar{k}\\rangle_\\Delta=0$\")\n",
    "ax[0].plot([min(x),max(x)],[0,0], \"k--\")\n",
    "ax[0].set(xlabel=r\"$q$\", ylabel=r\"$\\theta$\")\n",
    "ax[0].legend(loc = 'upper left', frameon = 0, handletextpad = 0, fontsize = 14)\n",
    "ax[0].set_title(\"a)\", x=-0.18, y=1)\n",
    "\n",
    "z1 = [fLambda(1, kT, xi) for xi in x]\n",
    "z2 = [fLambda(1+2*kT, 0, xi) for xi in x]\n",
    "ax[1].plot(x, z1, c=\"orange\", ls=\"-\", label=r\" $\\langle k\\rangle_|=\\langle \\bar{k}\\rangle_|=1,\\ \\langle k\\rangle_\\Delta=\\langle \\bar{k}\\rangle_\\Delta=0.5$\")\n",
    "ax[1].plot(x, z2, c=\"green\", ls=\"-.\", label=r\" $\\langle k\\rangle_|=\\langle \\bar{k}\\rangle_|=2,\\ \\langle k\\rangle_\\Delta=\\langle \\bar{k}\\rangle_\\Delta=0$\")\n",
    "ax[1].plot([min(x),max(x)],[0,0], \"k--\")\n",
    "ax[1].set(xlabel=r\"$q$\", ylabel=r\"$\\Lambda$\")\n",
    "ax[1].legend(loc = 'lower right', frameon = 0, handletextpad = 0, fontsize = 14)\n",
    "ax[1].set_title(\"b)\", x=-0.18, y=1)\n",
    "\n",
    "plt.subplots_adjust(bottom=0, top=2, hspace=0.25)\n",
    "plt.savefig('fig_theta_triangle.pdf',bbox_inches='tight', facecolor='white', edgecolor='none', dpi=300)"
   ]
  },
  {
   "cell_type": "markdown",
   "id": "1963992e-2838-4db0-9aa8-8dcb0921cdc0",
   "metadata": {},
   "source": [
    "# S.VI. interacting graphs and hypergraphs"
   ]
  },
  {
   "cell_type": "code",
   "execution_count": 13,
   "id": "59114fd3-a5a9-47ae-beef-3fe24e13fe20",
   "metadata": {},
   "outputs": [],
   "source": [
    "class InteractingHypergraphs:\n",
    "    \"\"\"\n",
    "    A class for the order parameter of interacting graphs/hypergraphs\n",
    "    g: number of graphs/hypegraphs\n",
    "    graph: True for graphs and False for hypergraphs\n",
    "    poisson: True for Poisson degree and cardinality distributions else False\n",
    "    \"\"\"\n",
    "    def __init__(self, g=2, graph=False, poisson=False):\n",
    "        L = int(g+(g*(g+1))/2)\n",
    "        k = zeros(L, L)\n",
    "        K = zeros(L, L)\n",
    "        s = zeros(L, L)\n",
    "        S = zeros(L, L)\n",
    "        #\n",
    "        # i = l (l=0,..,g-1): nodes of graph G_l\n",
    "        # i = g + sum_{m=0}^{l-1}(g-m) + m-l: links between nodes l in G_l and m in G_m\n",
    "        #\n",
    "        for l in range(g):\n",
    "            for m in range(l,g):\n",
    "                i = g + l*g - int((l*(l-1))/2) + m - l\n",
    "                if l==m:\n",
    "                    k[l,i] = symbols('k_'+str(l)+str(i))\n",
    "                    K[l,i] = symbols('K_'+str(l)+str(i))\n",
    "                    s[i,l] = 2 if graph else symbols('c_'+str(i)+str(l))\n",
    "                    S[i,l] = 1 if graph else symbols('C_'+str(i)+str(l))\n",
    "                else:\n",
    "                    k[l,i] = symbols('k_'+str(l)+str(i))\n",
    "                    k[m,i] = symbols('k_'+str(m)+str(i))\n",
    "                    K[l,i] = symbols('K_'+str(l)+str(i))\n",
    "                    K[m,i] = symbols('K_'+str(m)+str(i))                      \n",
    "                    s[i,l] = 1 if graph else symbols('c_'+str(i)+str(l))\n",
    "                    s[i,m] = 1 if graph else symbols('c_'+str(i)+str(m))\n",
    "                    S[i,l] = 0 if graph else symbols('C_'+str(i)+str(l))\n",
    "                    S[i,m] = 0 if graph else symbols('C_'+str(i)+str(m))\n",
    "        if poisson:\n",
    "            K = k\n",
    "        if poisson and not graph:\n",
    "            S = s\n",
    "        self.A = vec2A(k,K,s,S)"
   ]
  },
  {
   "cell_type": "code",
   "execution_count": 14,
   "id": "76572091-0e12-41b8-93c5-6b62b6ff779d",
   "metadata": {},
   "outputs": [
    {
     "data": {
      "text/plain": [
       "'Supp. Eq. 20'"
      ]
     },
     "metadata": {},
     "output_type": "display_data"
    },
    {
     "data": {
      "text/latex": [
       "$\\displaystyle \\theta = - c_{20} c_{31} k_{02} k_{13} - c_{20} c_{41} k_{02} k_{14} + c_{20} k_{02} - c_{30} c_{41} k_{03} k_{14} + c_{30} k_{03} + c_{31} k_{13} + c_{41} k_{14} - 1$"
      ],
      "text/plain": [
       "Eq(theta, -c_20*c_31*k_02*k_13 - c_20*c_41*k_02*k_14 + c_20*k_02 - c_30*c_41*k_03*k_14 + c_30*k_03 + c_31*k_13 + c_41*k_14 - 1)"
      ]
     },
     "metadata": {},
     "output_type": "display_data"
    },
    {
     "data": {
      "text/plain": [
       "'Supp. Eq. 21, eigenvalues:'"
      ]
     },
     "metadata": {},
     "output_type": "display_data"
    },
    {
     "data": {
      "text/plain": [
       "[-1,\n",
       " -sqrt(c_20*k_02/2 + c_30*k_03/2 + c_31*k_13/2 + c_41*k_14/2 - sqrt(c_20**2*k_02**2 + 2*c_20*c_30*k_02*k_03 - 2*c_20*c_31*k_02*k_13 - 2*c_20*c_41*k_02*k_14 + c_30**2*k_03**2 + 2*c_30*c_31*k_03*k_13 - 2*c_30*c_41*k_03*k_14 + c_31**2*k_13**2 + 2*c_31*c_41*k_13*k_14 + c_41**2*k_14**2)/2) - 1,\n",
       " -sqrt(c_20*k_02/2 + c_30*k_03/2 + c_31*k_13/2 + c_41*k_14/2 + sqrt(c_20**2*k_02**2 + 2*c_20*c_30*k_02*k_03 - 2*c_20*c_31*k_02*k_13 - 2*c_20*c_41*k_02*k_14 + c_30**2*k_03**2 + 2*c_30*c_31*k_03*k_13 - 2*c_30*c_41*k_03*k_14 + c_31**2*k_13**2 + 2*c_31*c_41*k_13*k_14 + c_41**2*k_14**2)/2) - 1,\n",
       " sqrt(c_20*k_02/2 + c_30*k_03/2 + c_31*k_13/2 + c_41*k_14/2 - sqrt(c_20**2*k_02**2 + 2*c_20*c_30*k_02*k_03 - 2*c_20*c_31*k_02*k_13 - 2*c_20*c_41*k_02*k_14 + c_30**2*k_03**2 + 2*c_30*c_31*k_03*k_13 - 2*c_30*c_41*k_03*k_14 + c_31**2*k_13**2 + 2*c_31*c_41*k_13*k_14 + c_41**2*k_14**2)/2) - 1,\n",
       " sqrt(c_20*k_02/2 + c_30*k_03/2 + c_31*k_13/2 + c_41*k_14/2 + sqrt(c_20**2*k_02**2 + 2*c_20*c_30*k_02*k_03 - 2*c_20*c_31*k_02*k_13 - 2*c_20*c_41*k_02*k_14 + c_30**2*k_03**2 + 2*c_30*c_31*k_03*k_13 - 2*c_30*c_41*k_03*k_14 + c_31**2*k_13**2 + 2*c_31*c_41*k_13*k_14 + c_41**2*k_14**2)/2) - 1]"
      ]
     },
     "metadata": {},
     "output_type": "display_data"
    },
    {
     "data": {
      "text/plain": [
       "'Supp. Eq. 22'"
      ]
     },
     "metadata": {},
     "output_type": "display_data"
    },
    {
     "data": {
      "text/latex": [
       "$\\displaystyle \\Lambda = \\sqrt{\\frac{c_{20} k_{02}}{2} + \\frac{c_{30} k_{03}}{2} + \\frac{c_{31} k_{13}}{2} + \\frac{c_{41} k_{14}}{2} + \\frac{\\sqrt{c_{20}^{2} k_{02}^{2} + 2 c_{20} c_{30} k_{02} k_{03} - 2 c_{20} c_{31} k_{02} k_{13} - 2 c_{20} c_{41} k_{02} k_{14} + c_{30}^{2} k_{03}^{2} + 2 c_{30} c_{31} k_{03} k_{13} - 2 c_{30} c_{41} k_{03} k_{14} + c_{31}^{2} k_{13}^{2} + 2 c_{31} c_{41} k_{13} k_{14} + c_{41}^{2} k_{14}^{2}}}{2}} - 1$"
      ],
      "text/plain": [
       "Eq(Lambda, sqrt(c_20*k_02/2 + c_30*k_03/2 + c_31*k_13/2 + c_41*k_14/2 + sqrt(c_20**2*k_02**2 + 2*c_20*c_30*k_02*k_03 - 2*c_20*c_31*k_02*k_13 - 2*c_20*c_41*k_02*k_14 + c_30**2*k_03**2 + 2*c_30*c_31*k_03*k_13 - 2*c_30*c_41*k_03*k_14 + c_31**2*k_13**2 + 2*c_31*c_41*k_13*k_14 + c_41**2*k_14**2)/2) - 1)"
      ]
     },
     "metadata": {},
     "output_type": "display_data"
    }
   ],
   "source": [
    "# two interacting hypegraphs with Poisson degree and cardinality distributions\n",
    "\n",
    "IHP2 = InteractingHypergraphs(g=2, poisson=True)\n",
    "fancy_print(\"20\", IHP2.A.theta(), 'theta')\n",
    "fancy_print(\"21\", IHP2.A.eigenvals(), \"eigenvalues\", split=True)\n",
    "fancy_print(\"22\", IHP2.A.eigenvals()[4], \"Lambda\")"
   ]
  },
  {
   "cell_type": "code",
   "execution_count": 15,
   "id": "d6ca83cc-7814-43ab-a73b-fbb90ddb9b1d",
   "metadata": {},
   "outputs": [
    {
     "data": {
      "text/plain": [
       "'Supp. Eq. 23'"
      ]
     },
     "metadata": {},
     "output_type": "display_data"
    },
    {
     "data": {
      "text/latex": [
       "$\\displaystyle \\theta = - k_{02} k_{14} + k_{02} + k_{03} k_{13} + k_{14} - 1$"
      ],
      "text/plain": [
       "Eq(theta, -k_02*k_14 + k_02 + k_03*k_13 + k_14 - 1)"
      ]
     },
     "metadata": {},
     "output_type": "display_data"
    },
    {
     "data": {
      "text/plain": [
       "'Supp. Eq. 24, eigenvalues:'"
      ]
     },
     "metadata": {},
     "output_type": "display_data"
    },
    {
     "data": {
      "text/plain": [
       "[-1,\n",
       " -sqrt(k_02/2 + k_14/2 - sqrt(k_02**2 - 2*k_02*k_14 + 4*k_03*k_13 + k_14**2)/2) - 1,\n",
       " -sqrt(k_02/2 + k_14/2 + sqrt(k_02**2 - 2*k_02*k_14 + 4*k_03*k_13 + k_14**2)/2) - 1,\n",
       " sqrt(k_02/2 + k_14/2 - sqrt(k_02**2 - 2*k_02*k_14 + 4*k_03*k_13 + k_14**2)/2) - 1,\n",
       " sqrt(k_02/2 + k_14/2 + sqrt(k_02**2 - 2*k_02*k_14 + 4*k_03*k_13 + k_14**2)/2) - 1]"
      ]
     },
     "metadata": {},
     "output_type": "display_data"
    },
    {
     "data": {
      "text/plain": [
       "'Supp. Eq. 25'"
      ]
     },
     "metadata": {},
     "output_type": "display_data"
    },
    {
     "data": {
      "text/latex": [
       "$\\displaystyle \\Lambda = \\sqrt{\\frac{k_{02}}{2} + \\frac{k_{14}}{2} + \\frac{\\sqrt{k_{02}^{2} - 2 k_{02} k_{14} + 4 k_{03} k_{13} + k_{14}^{2}}}{2}} - 1$"
      ],
      "text/plain": [
       "Eq(Lambda, sqrt(k_02/2 + k_14/2 + sqrt(k_02**2 - 2*k_02*k_14 + 4*k_03*k_13 + k_14**2)/2) - 1)"
      ]
     },
     "metadata": {},
     "output_type": "display_data"
    }
   ],
   "source": [
    "# two interacting graphs with Poisson degree distributions\n",
    "\n",
    "IGP2 = InteractingHypergraphs(g=2, graph=True, poisson=True)\n",
    "fancy_print(\"23\", IGP2.A.theta(), 'theta')\n",
    "fancy_print(\"24\", IGP2.A.eigenvals(), \"eigenvalues\", split=True)\n",
    "fancy_print(\"25\", IGP2.A.eigenvals()[4], \"Lambda\")"
   ]
  },
  {
   "cell_type": "code",
   "execution_count": 16,
   "id": "a8a57bae-a187-4182-9c3e-a6c421c3cdc6",
   "metadata": {},
   "outputs": [
    {
     "data": {
      "text/plain": [
       "'Supp. Eq. 26'"
      ]
     },
     "metadata": {},
     "output_type": "display_data"
    },
    {
     "data": {
      "text/latex": [
       "$\\displaystyle \\theta = K_{02} K_{03} K_{13} K_{14} - K_{02} K_{03} K_{13} - K_{02} K_{03} k_{13} k_{14} - K_{02} K_{14} + K_{02} - K_{03} K_{13} K_{14} + K_{03} K_{13} + K_{03} k_{13} k_{14} - K_{13} K_{14} k_{02} k_{03} + K_{13} k_{02} k_{03} + K_{14} + k_{02} k_{03} k_{13} k_{14} - 1$"
      ],
      "text/plain": [
       "Eq(theta, K_02*K_03*K_13*K_14 - K_02*K_03*K_13 - K_02*K_03*k_13*k_14 - K_02*K_14 + K_02 - K_03*K_13*K_14 + K_03*K_13 + K_03*k_13*k_14 - K_13*K_14*k_02*k_03 + K_13*k_02*k_03 + K_14 + k_02*k_03*k_13*k_14 - 1)"
      ]
     },
     "metadata": {},
     "output_type": "display_data"
    }
   ],
   "source": [
    "# two interacting graphs\n",
    "\n",
    "IG2 = InteractingHypergraphs(g=2, graph=True)\n",
    "fancy_print(\"26\", IG2.A.theta(), 'theta')\n",
    "#\n",
    "#   WARNING! The eigenalues calculation are commented because they\n",
    "#   can consume a lot of time and memmory\n",
    "#\n",
    "#fancy_print(\"27\", IG2.A.eigenvals(), \"eigenvalues\", split=True)\n",
    "#fancy_print(\"28\", IG2.A.eigenvals()[4], \"Lambda\")"
   ]
  },
  {
   "cell_type": "code",
   "execution_count": null,
   "id": "008447b4-a85e-4842-8e60-fb62bceaff97",
   "metadata": {},
   "outputs": [],
   "source": []
  }
 ],
 "metadata": {
  "kernelspec": {
   "display_name": "Python 3 (ipykernel)",
   "language": "python",
   "name": "python3"
  },
  "language_info": {
   "codemirror_mode": {
    "name": "ipython",
    "version": 3
   },
   "file_extension": ".py",
   "mimetype": "text/x-python",
   "name": "python",
   "nbconvert_exporter": "python",
   "pygments_lexer": "ipython3",
   "version": "3.10.9"
  }
 },
 "nbformat": 4,
 "nbformat_minor": 5
}
